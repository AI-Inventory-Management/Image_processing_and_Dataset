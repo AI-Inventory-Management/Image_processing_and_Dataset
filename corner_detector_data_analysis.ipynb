{
 "cells": [
  {
   "cell_type": "code",
   "execution_count": null,
   "metadata": {},
   "outputs": [],
   "source": [
    "import numpy as np\n",
    "import cv2 as cv\n",
    "import os\n",
    "import pandas as pd\n",
    "import random\n",
    "\n",
    "alex_data_dir = \"./corner_detector_dataset/alex_data.csv\"\n",
    "javier_data_dir = \"./corner_detector_dataset/javier_data.csv\"\n",
    "jose_data_dir = \"./corner_detector_dataset/jose_data.csv\"\n",
    "\n",
    "alex_df = pd.read_csv(alex_data_dir)\n",
    "javier_df = pd.read_csv(javier_data_dir)\n",
    "jose_df = pd.read_csv(jose_data_dir)\n",
    "\n",
    "print(alex_df.head())\n",
    "print(\"========================\")\n",
    "print(\"alex_df shape is: {s}\".format(s = alex_df.shape))\n",
    "print(\"javier_df shape is: {s}\".format(s = javier_df.shape))\n",
    "print(\"jose_df shape is: {s}\".format(s = jose_df.shape))\n",
    "\n",
    "full_df = pd.concat([alex_df, javier_df, jose_df])\n",
    "print(\"full_df shape is: {s}\".format(s = full_df.shape))\n",
    "\n",
    "corner_entries = full_df[full_df.is_fridge_corner == 1.0]\n",
    "print(\"corner entries shape is: {s}\".format(s = corner_entries.shape))\n",
    "print(\"corner entries indexes are is: {s}\".format(s = corner_entries.index))\n",
    "corner_entries_dirs = corner_entries.image_dir.tolist()\n",
    "corner_entries_indexes = corner_entries.index.tolist()\n",
    "print(\"corner entries indexes are is: {s}\".format(s = corner_entries_indexes))\n",
    "\n",
    "#print(corner_entries_dirs)\n",
    "# ====== CLEANING DATASET BASED ON HUMAN VISION ======\n",
    "corners_to_delete = []\n",
    "for i in range(len(corner_entries_dirs)):\n",
    "    corner = cv.imread(corner_entries_dirs[i])\n",
    "    cv.imshow(\"corner\",corner)\n",
    "    pressed_key = cv.waitKey(0)\n",
    "    if pressed_key == 0x66:\n",
    "        # when pressed key is 'f' that data is scheduled to be deleted\n",
    "        corners_to_delete.append(corner_entries_indexes[i])\n",
    "\n",
    "full_df = full_df.drop(labels=corners_to_delete, axis=0)\n",
    "corner_entries = full_df[full_df.is_fridge_corner == 1.0]\n",
    "corner_entries_dirs = corner_entries.image_dir.tolist()\n",
    "\n",
    "# ====== MAKING DATA AUGMENTATION FOR DATA WITH CORNERS ======\n",
    "def brightness(img, low, high):\n",
    "    value = random.uniform(low, high)\n",
    "    hsv = cv.cvtColor(img, cv.COLOR_BGR2HSV)\n",
    "    hsv = np.array(hsv, dtype = np.float64)\n",
    "    hsv[:,:,1] = hsv[:,:,1]*value\n",
    "    hsv[:,:,1][hsv[:,:,1]>255]  = 255\n",
    "    hsv[:,:,2] = hsv[:,:,2]*value \n",
    "    hsv[:,:,2][hsv[:,:,2]>255]  = 255\n",
    "    hsv = np.array(hsv, dtype = np.uint8)\n",
    "    img = cv.cvtColor(hsv, cv.COLOR_HSV2BGR)\n",
    "    return img\n",
    "\n",
    "for image_name in corner_entries_dirs:\n",
    "    image = cv.imread(image_name)\n",
    "    new_img1 = brightness(image, 0.4, 0.6)\n",
    "    new_img2 = brightness(image, 0.6, 0.8)\n",
    "    new_img3 = brightness(image, 0.8, 0.99)\n",
    "\n",
    "\n",
    "\n",
    "\n"
   ]
  }
 ],
 "metadata": {
  "kernelspec": {
   "display_name": "Python 3.9.13 64-bit (microsoft store)",
   "language": "python",
   "name": "python3"
  },
  "language_info": {
   "name": "python",
   "version": "3.9.13"
  },
  "orig_nbformat": 4,
  "vscode": {
   "interpreter": {
    "hash": "1bf7ec7796c28fcceddad23e71914adfb2c336f69250a3fccce6ef4cf4a8bfcc"
   }
  }
 },
 "nbformat": 4,
 "nbformat_minor": 2
}
