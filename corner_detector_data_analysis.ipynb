{
 "cells": [
  {
   "cell_type": "code",
   "execution_count": 1,
   "metadata": {},
   "outputs": [
    {
     "name": "stdout",
     "output_type": "stream",
     "text": [
      "                                           image_dir  conv_a  conv_b  conv_c  \\\n",
      "0  ./corner_detector_dataset/images/alex_16643254... -1928.0 -2154.0 -2220.0   \n",
      "1  ./corner_detector_dataset/images/alex_16643254... -2089.0 -2313.0 -2357.0   \n",
      "2  ./corner_detector_dataset/images/alex_16643254... -2226.0 -2534.0 -2572.0   \n",
      "3  ./corner_detector_dataset/images/alex_16643254... -2469.0 -2737.0 -2723.0   \n",
      "4  ./corner_detector_dataset/images/alex_16643254... -2705.0 -2969.0 -2947.0   \n",
      "\n",
      "   conv_d  conv_e  conv_f  conv_g  conv_h  is_fridge_corner  \n",
      "0 -2366.0   252.0  -252.0   186.0  -186.0               0.0  \n",
      "1 -2587.0   271.0  -271.0   227.0  -227.0               0.0  \n",
      "2 -2784.0   298.0  -298.0   260.0  -260.0               0.0  \n",
      "3 -3065.0   291.0  -291.0   305.0  -305.0               0.0  \n",
      "4 -3197.0   235.0  -235.0   257.0  -257.0               0.0  \n",
      "========================\n",
      "alex_df shape is: (5814, 10)\n",
      "javier_df shape is: (5814, 10)\n",
      "jose_df shape is: (5814, 10)\n",
      "full_df shape is: (17442, 10)\n",
      "corner entries shape is: (212, 10)\n",
      "corner entries indexes are is: Int64Index([  46,   55,  318,  326,  598,  624,  698,  707,  969, 1013,\n",
      "            ...\n",
      "            5404, 5405, 5472, 5473, 5491, 5500, 5525, 5534, 5797, 5806],\n",
      "           dtype='int64', length=212)\n",
      "corner entries indexes are is: [46, 55, 318, 326, 598, 624, 698, 707, 969, 1013, 1241, 1284, 1344, 1353, 1615, 1887, 1930, 1984, 1993, 2256, 2265, 2562, 2571, 2631, 2903, 2912, 3210, 3218, 3282, 3291, 3553, 3562, 3825, 3868, 3922, 3931, 4194, 4203, 4500, 4508, 4569, 4578, 4850, 4875, 5148, 5156, 5220, 5229, 5491, 5534, 5763, 5806, 48, 56, 353, 362, 625, 634, 698, 707, 969, 1012, 1241, 1284, 1409, 1418, 1715, 1758, 1984, 1993, 2256, 2265, 2536, 2562, 2630, 2639, 2902, 2911, 3182, 3208, 3282, 3291, 3553, 3596, 3825, 3868, 3928, 3937, 4199, 4242, 4471, 4514, 4531, 4540, 4837, 4846, 5143, 5153, 5217, 5489, 5498, 5795, 5804, 46, 55, 229, 231, 297, 299, 318, 352, 360, 624, 632, 692, 701, 875, 877, 943, 945, 964, 972, 998, 1006, 1270, 1278, 1338, 1347, 1523, 1589, 1591, 1610, 1618, 1644, 1652, 1916, 1924, 1984, 1993, 2167, 2169, 2235, 2237, 2256, 2264, 2290, 2298, 2562, 2570, 2630, 2639, 2813, 2815, 2881, 2883, 2902, 2910, 2936, 2944, 3208, 3216, 3276, 3285, 3459, 3461, 3527, 3529, 3548, 3556, 3582, 3590, 3854, 3862, 3928, 3937, 4112, 4113, 4180, 4181, 4200, 4201, 4208, 4242, 4505, 4514, 4574, 4583, 4758, 4759, 4825, 4827, 4845, 4854, 4879, 4888, 5117, 5151, 5159, 5160, 5220, 5229, 5403, 5404, 5405, 5472, 5473, 5491, 5500, 5525, 5534, 5797, 5806]\n"
     ]
    }
   ],
   "source": [
    "import numpy as np\n",
    "import cv2 as cv\n",
    "import os\n",
    "import pandas as pd\n",
    "import random\n",
    "\n",
    "alex_data_dir = \"./corner_detector_dataset/alex_data.csv\"\n",
    "javier_data_dir = \"./corner_detector_dataset/javier_data.csv\"\n",
    "jose_data_dir = \"./corner_detector_dataset/jose_data.csv\"\n",
    "\n",
    "alex_df = pd.read_csv(alex_data_dir)\n",
    "javier_df = pd.read_csv(javier_data_dir)\n",
    "jose_df = pd.read_csv(jose_data_dir)\n",
    "\n",
    "print(alex_df.head())\n",
    "print(\"========================\")\n",
    "print(\"alex_df shape is: {s}\".format(s = alex_df.shape))\n",
    "print(\"javier_df shape is: {s}\".format(s = javier_df.shape))\n",
    "print(\"jose_df shape is: {s}\".format(s = jose_df.shape))\n",
    "\n",
    "full_df = pd.concat([alex_df, javier_df, jose_df])\n",
    "print(\"full_df shape is: {s}\".format(s = full_df.shape))\n",
    "\n",
    "corner_entries = full_df[full_df.is_fridge_corner == 1.0]\n",
    "print(\"corner entries shape is: {s}\".format(s = corner_entries.shape))\n",
    "print(\"corner entries indexes are is: {s}\".format(s = corner_entries.index))\n",
    "corner_entries_dirs = corner_entries.image_dir.tolist()\n",
    "corner_entries_indexes = corner_entries.index.tolist()\n",
    "print(\"corner entries indexes are is: {s}\".format(s = corner_entries_indexes))\n",
    "\n",
    "#print(corner_entries_dirs)\n",
    "# ====== CLEANING DATASET BASED ON HUMAN VISION ======\n",
    "corners_to_delete = []\n",
    "for i in range(len(corner_entries_dirs)):\n",
    "    corner = cv.imread(corner_entries_dirs[i])\n",
    "    cv.imshow(\"corner\",corner)\n",
    "    pressed_key = cv.waitKey(0)\n",
    "    if pressed_key == 0x66:\n",
    "        # when pressed key is 'f' that data is scheduled to be deleted\n",
    "        corners_to_delete.append(corner_entries_indexes[i])\n",
    "\n",
    "full_df = full_df.drop(labels=corners_to_delete, axis=0)\n",
    "corner_entries = full_df[full_df.is_fridge_corner == 1.0]\n",
    "corner_entries_dirs = corner_entries.image_dir.tolist()\n",
    "\n",
    "# ====== MAKING DATA AUGMENTATION FOR DATA WITH CORNERS ======\n",
    "def brightness(img, low, high):\n",
    "    value = random.uniform(low, high)\n",
    "    hsv = cv.cvtColor(img, cv.COLOR_BGR2HSV)\n",
    "    hsv = np.array(hsv, dtype = np.float64)\n",
    "    hsv[:,:,1] = hsv[:,:,1]*value\n",
    "    hsv[:,:,1][hsv[:,:,1]>255]  = 255\n",
    "    hsv[:,:,2] = hsv[:,:,2]*value \n",
    "    hsv[:,:,2][hsv[:,:,2]>255]  = 255\n",
    "    hsv = np.array(hsv, dtype = np.uint8)\n",
    "    img = cv.cvtColor(hsv, cv.COLOR_HSV2BGR)\n",
    "    return img\n",
    "\n",
    "for image_name in corner_entries_dirs:\n",
    "    image = cv.imread(image_name)\n",
    "    new_img1 = brightness(image, 0.4, 0.6)\n",
    "    new_img2 = brightness(image, 0.6, 0.8)\n",
    "    new_img3 = brightness(image, 0.8, 0.99)\n",
    "\n",
    "\n",
    "\n",
    "\n"
   ]
  }
 ],
 "metadata": {
  "kernelspec": {
   "display_name": "Python 3.10.7 64-bit",
   "language": "python",
   "name": "python3"
  },
  "language_info": {
   "codemirror_mode": {
    "name": "ipython",
    "version": 3
   },
   "file_extension": ".py",
   "mimetype": "text/x-python",
   "name": "python",
   "nbconvert_exporter": "python",
   "pygments_lexer": "ipython3",
   "version": "3.10.7"
  },
  "orig_nbformat": 4,
  "vscode": {
   "interpreter": {
    "hash": "118d2d70b9837ec74e99cd8e271bd7c1e24309015268c38b027840ab45e80ec0"
   }
  }
 },
 "nbformat": 4,
 "nbformat_minor": 2
}
